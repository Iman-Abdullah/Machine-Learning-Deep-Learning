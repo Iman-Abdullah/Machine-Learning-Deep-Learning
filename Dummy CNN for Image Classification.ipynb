{
 "cells": [
  {
   "cell_type": "code",
   "execution_count": 2,
   "id": "994d4f7e-936b-4394-9858-c92152147581",
   "metadata": {},
   "outputs": [],
   "source": [
    "import tensorflow as tf\n",
    "from keras import layers, models\n",
    "import numpy as np"
   ]
  },
  {
   "cell_type": "code",
   "execution_count": 3,
   "id": "283113ce-7ed5-46a7-92c9-aa683fe2d288",
   "metadata": {},
   "outputs": [],
   "source": [
    "# 1. Create dummy image data: 100 samples of 28x28 grayscale images (2 classes)\n",
    "x_train = np.random.rand(100, 28, 28, 1)  # 100 grayscale images\n",
    "y_train = np.random.randint(0, 2, 100)    # 0 or 1 labels"
   ]
  },
  {
   "cell_type": "code",
   "execution_count": 4,
   "id": "4f6ca144-0b0a-4e6c-8c22-319b09f2adda",
   "metadata": {},
   "outputs": [],
   "source": [
    "# 2. Build a simple CNN model\n",
    "model = models.Sequential([\n",
    "    layers.Input(shape=(28, 28, 1)),\n",
    "    layers.Conv2D(16, (3, 3), activation='relu'),\n",
    "    layers.MaxPooling2D((2, 2)),\n",
    "    layers.Flatten(),\n",
    "    layers.Dense(32, activation='relu'),\n",
    "    layers.Dense(1, activation='sigmoid')  # Binary classification\n",
    "])"
   ]
  },
  {
   "cell_type": "code",
   "execution_count": 5,
   "id": "2c4966cb-937b-4660-96cc-19f003b82151",
   "metadata": {},
   "outputs": [],
   "source": [
    "# 3. Compile model\n",
    "model.compile(optimizer='adam', loss='binary_crossentropy', metrics=['accuracy'])"
   ]
  },
  {
   "cell_type": "code",
   "execution_count": 6,
   "id": "9949613a-5b5a-4188-a27d-b6c6755486de",
   "metadata": {},
   "outputs": [
    {
     "name": "stdout",
     "output_type": "stream",
     "text": [
      "Epoch 1/5\n",
      "\u001b[1m7/7\u001b[0m \u001b[32m━━━━━━━━━━━━━━━━━━━━\u001b[0m\u001b[37m\u001b[0m \u001b[1m2s\u001b[0m 12ms/step - accuracy: 0.5004 - loss: 0.7030\n",
      "Epoch 2/5\n",
      "\u001b[1m7/7\u001b[0m \u001b[32m━━━━━━━━━━━━━━━━━━━━\u001b[0m\u001b[37m\u001b[0m \u001b[1m0s\u001b[0m 15ms/step - accuracy: 0.6367 - loss: 0.6743\n",
      "Epoch 3/5\n",
      "\u001b[1m7/7\u001b[0m \u001b[32m━━━━━━━━━━━━━━━━━━━━\u001b[0m\u001b[37m\u001b[0m \u001b[1m0s\u001b[0m 14ms/step - accuracy: 0.6288 - loss: 0.6584\n",
      "Epoch 4/5\n",
      "\u001b[1m7/7\u001b[0m \u001b[32m━━━━━━━━━━━━━━━━━━━━\u001b[0m\u001b[37m\u001b[0m \u001b[1m0s\u001b[0m 13ms/step - accuracy: 0.9536 - loss: 0.6301\n",
      "Epoch 5/5\n",
      "\u001b[1m7/7\u001b[0m \u001b[32m━━━━━━━━━━━━━━━━━━━━\u001b[0m\u001b[37m\u001b[0m \u001b[1m0s\u001b[0m 12ms/step - accuracy: 0.5196 - loss: 0.6430\n"
     ]
    },
    {
     "data": {
      "text/plain": [
       "<keras.src.callbacks.history.History at 0x74ab4c2f0fd0>"
      ]
     },
     "execution_count": 6,
     "metadata": {},
     "output_type": "execute_result"
    }
   ],
   "source": [
    "# 4. Train model\n",
    "model.fit(x_train, y_train, epochs=5, batch_size=16)"
   ]
  },
  {
   "cell_type": "code",
   "execution_count": 7,
   "id": "7238febb-b1aa-4307-8eb7-78568a2985d8",
   "metadata": {},
   "outputs": [
    {
     "name": "stdout",
     "output_type": "stream",
     "text": [
      "\u001b[1m1/1\u001b[0m \u001b[32m━━━━━━━━━━━━━━━━━━━━\u001b[0m\u001b[37m\u001b[0m \u001b[1m0s\u001b[0m 96ms/step\n",
      "Predicted class: 0\n"
     ]
    }
   ],
   "source": [
    "# 5. Predict a sample\n",
    "sample = np.random.rand(1, 28, 28, 1)\n",
    "print(\"Predicted class:\", (model.predict(sample) > 0.5).astype(\"int32\")[0][0])"
   ]
  }
 ],
 "metadata": {
  "kernelspec": {
   "display_name": "(03) Python 3.9 (TensorFlow)",
   "language": "python",
   "name": "py39_tensorflow"
  },
  "language_info": {
   "codemirror_mode": {
    "name": "ipython",
    "version": 3
   },
   "file_extension": ".py",
   "mimetype": "text/x-python",
   "name": "python",
   "nbconvert_exporter": "python",
   "pygments_lexer": "ipython3",
   "version": "3.9.23"
  }
 },
 "nbformat": 4,
 "nbformat_minor": 5
}
