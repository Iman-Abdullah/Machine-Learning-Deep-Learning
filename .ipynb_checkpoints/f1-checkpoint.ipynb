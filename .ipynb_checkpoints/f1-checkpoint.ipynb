{
 "cells": [
  {
   "cell_type": "code",
   "execution_count": null,
   "id": "573381d6-0611-47a0-9677-a9a5b3b2b900",
   "metadata": {},
   "outputs": [],
   "source": [
    "#hi i am iman"
   ]
  },
  {
   "cell_type": "code",
   "execution_count": null,
   "id": "fda3dc8b-6fb5-43d0-b6c8-dd3bf3052de4",
   "metadata": {},
   "outputs": [],
   "source": [
    "ytuyiupoip"
   ]
  }
 ],
 "metadata": {
  "kernelspec": {
   "display_name": "(00) Python 3.9 - ML",
   "language": "python",
   "name": "py39_ml"
  },
  "language_info": {
   "codemirror_mode": {
    "name": "ipython",
    "version": 3
   },
   "file_extension": ".py",
   "mimetype": "text/x-python",
   "name": "python",
   "nbconvert_exporter": "python",
   "pygments_lexer": "ipython3",
   "version": "3.9.23"
  }
 },
 "nbformat": 4,
 "nbformat_minor": 5
}
