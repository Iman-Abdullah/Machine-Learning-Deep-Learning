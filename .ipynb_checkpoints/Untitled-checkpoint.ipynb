{
 "cells": [
  {
   "cell_type": "markdown",
   "id": "90a347e7-1ee4-416d-968d-a47d3f4ab064",
   "metadata": {},
   "source": [
    "1. Desigen the model arch using tf.keras.Model --> Define the layers from tf.keras.layers\n",
    "2. compile --> set loss and optimizer\n",
    "3. fit (train)"
   ]
  },
  {
   "cell_type": "code",
   "execution_count": null,
   "id": "02bc9585-3202-4988-be37-dac29bf25492",
   "metadata": {},
   "outputs": [],
   "source": []
  },
  {
   "cell_type": "code",
   "execution_count": 2,
   "id": "377818e4-cfd0-4d19-8a96-29e772e108ea",
   "metadata": {},
   "outputs": [
    {
     "name": "stderr",
     "output_type": "stream",
     "text": [
      "2025-06-26 09:09:18.410179: I tensorflow/core/platform/cpu_feature_guard.cc:210] This TensorFlow binary is optimized to use available CPU instructions in performance-critical operations.\n",
      "To enable the following instructions: SSE4.1 SSE4.2 AVX AVX2 FMA, in other operations, rebuild TensorFlow with the appropriate compiler flags.\n"
     ]
    }
   ],
   "source": [
    "import tensorflow as tf"
   ]
  },
  {
   "cell_type": "code",
   "execution_count": 4,
   "id": "417a0cc0-9019-409b-8620-5125dc7c8e95",
   "metadata": {},
   "outputs": [],
   "source": [
    "x = tf.random.normal(shape=[100,1])\n",
    "y = x* 3 +8.2"
   ]
  },
  {
   "cell_type": "code",
   "execution_count": 5,
   "id": "bf39a80c-60eb-4c9a-998d-f6216060cccd",
   "metadata": {},
   "outputs": [
    {
     "data": {
      "text/plain": [
       "(TensorShape([100, 1]), TensorShape([100, 1]))"
      ]
     },
     "execution_count": 5,
     "metadata": {},
     "output_type": "execute_result"
    }
   ],
   "source": [
    "x.shape, y.shape"
   ]
  },
  {
   "cell_type": "code",
   "execution_count": null,
   "id": "658e9db9-643d-492b-8ebe-2f5873aabc1f",
   "metadata": {},
   "outputs": [],
   "source": [
    "# tf.keras.models,tf.keras.Model, tf.keras.sequential(),"
   ]
  },
  {
   "cell_type": "code",
   "execution_count": null,
   "id": "bf9cd361-fcfd-4ffb-b651-e1c258288415",
   "metadata": {},
   "outputs": [],
   "source": []
  },
  {
   "cell_type": "code",
   "execution_count": 6,
   "id": "8145a4da-019f-4098-b39a-ea5149e5034a",
   "metadata": {},
   "outputs": [],
   "source": [
    "#define dense layer outside the context of the model\n",
    "d = tf.keras.layers.Dense(1)"
   ]
  },
  {
   "cell_type": "code",
   "execution_count": 7,
   "id": "00760d53-553d-4957-8f53-e5a5b6763066",
   "metadata": {},
   "outputs": [],
   "source": [
    "out = d(x)"
   ]
  },
  {
   "cell_type": "code",
   "execution_count": 8,
   "id": "50db20da-721d-4535-b5e9-dfe56b9227fc",
   "metadata": {},
   "outputs": [
    {
     "data": {
      "text/plain": [
       "TensorShape([100, 1])"
      ]
     },
     "execution_count": 8,
     "metadata": {},
     "output_type": "execute_result"
    }
   ],
   "source": [
    "out.shape"
   ]
  },
  {
   "cell_type": "code",
   "execution_count": 9,
   "id": "01a14d8a-06c2-42b5-9a81-880ada9f9b76",
   "metadata": {},
   "outputs": [
    {
     "data": {
      "text/plain": [
       "[<KerasVariable shape=(1, 1), dtype=float32, path=dense/kernel>,\n",
       " <KerasVariable shape=(1,), dtype=float32, path=dense/bias>]"
      ]
     },
     "execution_count": 9,
     "metadata": {},
     "output_type": "execute_result"
    }
   ],
   "source": [
    "d.weights"
   ]
  },
  {
   "cell_type": "code",
   "execution_count": null,
   "id": "f0990319-b47b-48bb-b074-b6a024b993d7",
   "metadata": {},
   "outputs": [],
   "source": [
    "d.trainable_weights\n",
    "''''\n",
    "The output of the weights"
   ]
  },
  {
   "cell_type": "code",
   "execution_count": 10,
   "id": "9c1e146d-cdf4-4a13-8206-1f53cf2ea41c",
   "metadata": {},
   "outputs": [
    {
     "data": {
      "text/plain": [
       "array([[-0.52013755]], dtype=float32)"
      ]
     },
     "execution_count": 10,
     "metadata": {},
     "output_type": "execute_result"
    }
   ],
   "source": [
    "d.weights[0].numpy()"
   ]
  },
  {
   "cell_type": "code",
   "execution_count": 11,
   "id": "60a43100-b9e7-4e92-98a8-77bb8a64031e",
   "metadata": {},
   "outputs": [
    {
     "data": {
      "text/plain": [
       "array([0.], dtype=float32)"
      ]
     },
     "execution_count": 11,
     "metadata": {},
     "output_type": "execute_result"
    }
   ],
   "source": [
    "d.weights[1].numpy()"
   ]
  },
  {
   "cell_type": "code",
   "execution_count": 13,
   "id": "418dc235-e74b-43ad-b167-7dc87a8d7e06",
   "metadata": {},
   "outputs": [
    {
     "data": {
      "text/plain": [
       "<tf.Tensor: shape=(3, 1), dtype=float32, numpy=\n",
       "array([[0.37219474],\n",
       "       [0.29816988],\n",
       "       [0.11102153]], dtype=float32)>"
      ]
     },
     "execution_count": 13,
     "metadata": {},
     "output_type": "execute_result"
    }
   ],
   "source": [
    "x[:3]"
   ]
  },
  {
   "cell_type": "code",
   "execution_count": 14,
   "id": "ae67deef-11cd-4832-b7a4-e33aa56de612",
   "metadata": {},
   "outputs": [
    {
     "data": {
      "text/plain": [
       "<tf.Tensor: shape=(3, 1), dtype=float32, numpy=\n",
       "array([[-0.19359246],\n",
       "       [-0.15508935],\n",
       "       [-0.05774647]], dtype=float32)>"
      ]
     },
     "execution_count": 14,
     "metadata": {},
     "output_type": "execute_result"
    }
   ],
   "source": [
    "out[:3]"
   ]
  },
  {
   "cell_type": "code",
   "execution_count": 15,
   "id": "306b25d8-d232-4e8d-9fca-301ecab376d2",
   "metadata": {},
   "outputs": [
    {
     "data": {
      "text/plain": [
       "<tf.Tensor: shape=(3, 1), dtype=float32, numpy=\n",
       "array([[-0.19359246],\n",
       "       [-0.15508935],\n",
       "       [-0.05774647]], dtype=float32)>"
      ]
     },
     "execution_count": 15,
     "metadata": {},
     "output_type": "execute_result"
    }
   ],
   "source": [
    "#The linear Regression calculations inside the neuron for the first 3 times \n",
    "(x[:3] * d.weights[0].numpy()[:3]) + d.weights[1].numpy()[:3]"
   ]
  },
  {
   "cell_type": "code",
   "execution_count": null,
   "id": "358044b7-ea49-4936-be0c-edea930c27cf",
   "metadata": {},
   "outputs": [],
   "source": []
  },
  {
   "cell_type": "code",
   "execution_count": null,
   "id": "98969864-d52a-49ac-9375-776778ea0c6b",
   "metadata": {},
   "outputs": [],
   "source": [
    "#design NN arch"
   ]
  },
  {
   "cell_type": "code",
   "execution_count": 22,
   "id": "f56a6a32-2ab8-405a-9159-c4daa5a3dd37",
   "metadata": {},
   "outputs": [],
   "source": [
    "del model"
   ]
  },
  {
   "cell_type": "code",
   "execution_count": 23,
   "id": "86d0ba88-9be9-415c-981b-6fdd94086afb",
   "metadata": {},
   "outputs": [
    {
     "name": "stderr",
     "output_type": "stream",
     "text": [
      "/opt/conda/envs/py39_tensorflow/lib/python3.9/site-packages/keras/src/layers/core/dense.py:87: UserWarning: Do not pass an `input_shape`/`input_dim` argument to a layer. When using Sequential models, prefer using an `Input(shape)` object as the first layer in the model instead.\n",
      "  super().__init__(activity_regularizer=activity_regularizer, **kwargs)\n"
     ]
    }
   ],
   "source": [
    "model = tf.keras.models.Sequential([\n",
    "    tf.keras.layers.Dense(20, input_shape = [1]),   # low-level features will be extracted  --> much more than high-level\n",
    "    tf.keras.layers.Dense(10),   # high-level features will be extracted  --> much less than low-level\n",
    "    tf.keras.layers.Dense(3),    # the expected output\n",
    "])"
   ]
  },
  {
   "cell_type": "code",
   "execution_count": 24,
   "id": "f1712753-9bcb-4bae-a946-2b07743f7c4c",
   "metadata": {},
   "outputs": [
    {
     "data": {
      "text/html": [
       "<pre style=\"white-space:pre;overflow-x:auto;line-height:normal;font-family:Menlo,'DejaVu Sans Mono',consolas,'Courier New',monospace\"><span style=\"font-weight: bold\">Model: \"sequential_1\"</span>\n",
       "</pre>\n"
      ],
      "text/plain": [
       "\u001b[1mModel: \"sequential_1\"\u001b[0m\n"
      ]
     },
     "metadata": {},
     "output_type": "display_data"
    },
    {
     "data": {
      "text/html": [
       "<pre style=\"white-space:pre;overflow-x:auto;line-height:normal;font-family:Menlo,'DejaVu Sans Mono',consolas,'Courier New',monospace\">┏━━━━━━━━━━━━━━━━━━━━━━━━━━━━━━━━━┳━━━━━━━━━━━━━━━━━━━━━━━━┳━━━━━━━━━━━━━━━┓\n",
       "┃<span style=\"font-weight: bold\"> Layer (type)                    </span>┃<span style=\"font-weight: bold\"> Output Shape           </span>┃<span style=\"font-weight: bold\">       Param # </span>┃\n",
       "┡━━━━━━━━━━━━━━━━━━━━━━━━━━━━━━━━━╇━━━━━━━━━━━━━━━━━━━━━━━━╇━━━━━━━━━━━━━━━┩\n",
       "│ dense_4 (<span style=\"color: #0087ff; text-decoration-color: #0087ff\">Dense</span>)                 │ (<span style=\"color: #00d7ff; text-decoration-color: #00d7ff\">None</span>, <span style=\"color: #00af00; text-decoration-color: #00af00\">20</span>)             │            <span style=\"color: #00af00; text-decoration-color: #00af00\">40</span> │\n",
       "├─────────────────────────────────┼────────────────────────┼───────────────┤\n",
       "│ dense_5 (<span style=\"color: #0087ff; text-decoration-color: #0087ff\">Dense</span>)                 │ (<span style=\"color: #00d7ff; text-decoration-color: #00d7ff\">None</span>, <span style=\"color: #00af00; text-decoration-color: #00af00\">10</span>)             │           <span style=\"color: #00af00; text-decoration-color: #00af00\">210</span> │\n",
       "├─────────────────────────────────┼────────────────────────┼───────────────┤\n",
       "│ dense_6 (<span style=\"color: #0087ff; text-decoration-color: #0087ff\">Dense</span>)                 │ (<span style=\"color: #00d7ff; text-decoration-color: #00d7ff\">None</span>, <span style=\"color: #00af00; text-decoration-color: #00af00\">3</span>)              │            <span style=\"color: #00af00; text-decoration-color: #00af00\">33</span> │\n",
       "└─────────────────────────────────┴────────────────────────┴───────────────┘\n",
       "</pre>\n"
      ],
      "text/plain": [
       "┏━━━━━━━━━━━━━━━━━━━━━━━━━━━━━━━━━┳━━━━━━━━━━━━━━━━━━━━━━━━┳━━━━━━━━━━━━━━━┓\n",
       "┃\u001b[1m \u001b[0m\u001b[1mLayer (type)                   \u001b[0m\u001b[1m \u001b[0m┃\u001b[1m \u001b[0m\u001b[1mOutput Shape          \u001b[0m\u001b[1m \u001b[0m┃\u001b[1m \u001b[0m\u001b[1m      Param #\u001b[0m\u001b[1m \u001b[0m┃\n",
       "┡━━━━━━━━━━━━━━━━━━━━━━━━━━━━━━━━━╇━━━━━━━━━━━━━━━━━━━━━━━━╇━━━━━━━━━━━━━━━┩\n",
       "│ dense_4 (\u001b[38;5;33mDense\u001b[0m)                 │ (\u001b[38;5;45mNone\u001b[0m, \u001b[38;5;34m20\u001b[0m)             │            \u001b[38;5;34m40\u001b[0m │\n",
       "├─────────────────────────────────┼────────────────────────┼───────────────┤\n",
       "│ dense_5 (\u001b[38;5;33mDense\u001b[0m)                 │ (\u001b[38;5;45mNone\u001b[0m, \u001b[38;5;34m10\u001b[0m)             │           \u001b[38;5;34m210\u001b[0m │\n",
       "├─────────────────────────────────┼────────────────────────┼───────────────┤\n",
       "│ dense_6 (\u001b[38;5;33mDense\u001b[0m)                 │ (\u001b[38;5;45mNone\u001b[0m, \u001b[38;5;34m3\u001b[0m)              │            \u001b[38;5;34m33\u001b[0m │\n",
       "└─────────────────────────────────┴────────────────────────┴───────────────┘\n"
      ]
     },
     "metadata": {},
     "output_type": "display_data"
    },
    {
     "data": {
      "text/html": [
       "<pre style=\"white-space:pre;overflow-x:auto;line-height:normal;font-family:Menlo,'DejaVu Sans Mono',consolas,'Courier New',monospace\"><span style=\"font-weight: bold\"> Total params: </span><span style=\"color: #00af00; text-decoration-color: #00af00\">283</span> (1.11 KB)\n",
       "</pre>\n"
      ],
      "text/plain": [
       "\u001b[1m Total params: \u001b[0m\u001b[38;5;34m283\u001b[0m (1.11 KB)\n"
      ]
     },
     "metadata": {},
     "output_type": "display_data"
    },
    {
     "data": {
      "text/html": [
       "<pre style=\"white-space:pre;overflow-x:auto;line-height:normal;font-family:Menlo,'DejaVu Sans Mono',consolas,'Courier New',monospace\"><span style=\"font-weight: bold\"> Trainable params: </span><span style=\"color: #00af00; text-decoration-color: #00af00\">283</span> (1.11 KB)\n",
       "</pre>\n"
      ],
      "text/plain": [
       "\u001b[1m Trainable params: \u001b[0m\u001b[38;5;34m283\u001b[0m (1.11 KB)\n"
      ]
     },
     "metadata": {},
     "output_type": "display_data"
    },
    {
     "data": {
      "text/html": [
       "<pre style=\"white-space:pre;overflow-x:auto;line-height:normal;font-family:Menlo,'DejaVu Sans Mono',consolas,'Courier New',monospace\"><span style=\"font-weight: bold\"> Non-trainable params: </span><span style=\"color: #00af00; text-decoration-color: #00af00\">0</span> (0.00 B)\n",
       "</pre>\n"
      ],
      "text/plain": [
       "\u001b[1m Non-trainable params: \u001b[0m\u001b[38;5;34m0\u001b[0m (0.00 B)\n"
      ]
     },
     "metadata": {},
     "output_type": "display_data"
    }
   ],
   "source": [
    "model.summary()"
   ]
  },
  {
   "cell_type": "code",
   "execution_count": 25,
   "id": "1db0f9f3-714b-4aca-a452-9bc8a6e01e22",
   "metadata": {},
   "outputs": [
    {
     "data": {
      "text/plain": [
       "((None, 1), (None, 3))"
      ]
     },
     "execution_count": 25,
     "metadata": {},
     "output_type": "execute_result"
    }
   ],
   "source": [
    "model.input_shape, model.output_shape"
   ]
  },
  {
   "cell_type": "code",
   "execution_count": 20,
   "id": "5da6e999-1fca-4cd6-a494-8d29a624b896",
   "metadata": {},
   "outputs": [
    {
     "name": "stdout",
     "output_type": "stream",
     "text": [
      "\u001b[1m4/4\u001b[0m \u001b[32m━━━━━━━━━━━━━━━━━━━━\u001b[0m\u001b[37m\u001b[0m \u001b[1m0s\u001b[0m 19ms/step\n"
     ]
    },
    {
     "data": {
      "text/plain": [
       "array([[-1.89484749e-02, -3.31392378e-01, -9.54331607e-02],\n",
       "       [-1.51798343e-02, -2.65482575e-01, -7.64527321e-02],\n",
       "       [-5.65210311e-03, -9.88506302e-02, -2.84666494e-02],\n",
       "       [-5.26567698e-02, -9.20922875e-01, -2.65204072e-01],\n",
       "       [ 2.69401539e-02,  4.71160531e-01,  1.35683104e-01],\n",
       "       [-1.19041890e-01, -2.08194137e+00, -5.99550009e-01],\n",
       "       [ 3.07338126e-02,  5.37507772e-01,  1.54789582e-01],\n",
       "       [ 5.11264428e-03,  8.94158259e-02,  2.57496499e-02],\n",
       "       [-3.68289836e-03, -6.44107386e-02, -1.85487755e-02],\n",
       "       [ 1.62544176e-02,  2.84276247e-01,  8.18648487e-02],\n",
       "       [ 1.09822061e-02,  1.92069784e-01,  5.53115681e-02],\n",
       "       [ 6.82071969e-02,  1.19288599e+00,  3.43522996e-01],\n",
       "       [ 1.71902962e-02,  3.00644100e-01,  8.65784138e-02],\n",
       "       [ 1.75693016e-02,  3.07272315e-01,  8.84871781e-02],\n",
       "       [ 6.30831644e-02,  1.10327148e+00,  3.17716211e-01],\n",
       "       [ 5.01662977e-02,  8.77366304e-01,  2.52660811e-01],\n",
       "       [-4.84565347e-02, -8.47464085e-01, -2.44049639e-01],\n",
       "       [-4.16157469e-02, -7.27824211e-01, -2.09596202e-01],\n",
       "       [-1.15678951e-01, -2.02312946e+00, -5.82613468e-01],\n",
       "       [ 9.73689556e-02,  1.70290327e+00,  4.90395993e-01],\n",
       "       [ 4.54744808e-02,  7.95311153e-01,  2.29030877e-01],\n",
       "       [-6.85456246e-02, -1.19880533e+00, -3.45227689e-01],\n",
       "       [ 5.65789491e-02,  9.89518166e-01,  2.84957886e-01],\n",
       "       [-7.31358901e-02, -1.27908564e+00, -3.68346572e-01],\n",
       "       [-3.64040025e-02, -6.36675239e-01, -1.83347479e-01],\n",
       "       [ 4.43938654e-03,  7.76410997e-02,  2.23588087e-02],\n",
       "       [-3.02023180e-02, -5.28213263e-01, -1.52112961e-01],\n",
       "       [-1.98366828e-02, -3.46927017e-01, -9.99068022e-02],\n",
       "       [ 4.09108810e-02,  7.15496063e-01,  2.06045985e-01],\n",
       "       [-5.15589677e-02, -9.01722431e-01, -2.59674847e-01],\n",
       "       [ 2.52974182e-02,  4.42430496e-01,  1.27409548e-01],\n",
       "       [ 9.81170218e-03,  1.71598300e-01,  4.94162664e-02],\n",
       "       [ 1.04540713e-01,  1.82833135e+00,  5.26516318e-01],\n",
       "       [ 1.65542793e-02,  2.89520323e-01,  8.33750442e-02],\n",
       "       [ 2.48820242e-02,  4.35165167e-01,  1.25317320e-01],\n",
       "       [-4.07909937e-02, -7.13400424e-01, -2.05442518e-01],\n",
       "       [ 7.84686804e-02,  1.37235224e+00,  3.95205051e-01],\n",
       "       [ 1.03198759e-01,  1.80486345e+00,  5.19758105e-01],\n",
       "       [-1.08264402e-01, -1.89345479e+00, -5.45270383e-01],\n",
       "       [ 5.93125150e-02,  1.03732681e+00,  2.98725694e-01],\n",
       "       [-9.98133421e-02, -1.74565184e+00, -5.02706587e-01],\n",
       "       [-7.43333669e-03, -1.30002856e-01, -3.74377593e-02],\n",
       "       [-3.34423408e-02, -5.84878147e-01, -1.68431148e-01],\n",
       "       [-6.31526560e-02, -1.10448861e+00, -3.18066716e-01],\n",
       "       [-1.84101351e-02, -3.21977794e-01, -9.27220136e-02],\n",
       "       [-1.53065287e-02, -2.67698765e-01, -7.70909339e-02],\n",
       "       [ 2.40003467e-02,  4.19746488e-01,  1.20877072e-01],\n",
       "       [-1.98141616e-02, -3.46533298e-01, -9.97934267e-02],\n",
       "       [ 7.05927014e-02,  1.23460817e+00,  3.55538040e-01],\n",
       "       [ 3.57605033e-02,  6.25421286e-01,  1.80106580e-01],\n",
       "       [-3.18930373e-02, -5.57782769e-01, -1.60628304e-01],\n",
       "       [-4.64916453e-02, -8.13100934e-01, -2.34153926e-01],\n",
       "       [-6.49395287e-02, -1.13573766e+00, -3.27065676e-01],\n",
       "       [-2.80262344e-02, -4.90155518e-01, -1.41153246e-01],\n",
       "       [-1.16371876e-02, -2.03524545e-01, -5.86102717e-02],\n",
       "       [-3.79508920e-02, -6.63729429e-01, -1.91138417e-01],\n",
       "       [ 5.83823696e-02,  1.02105772e+00,  2.94040561e-01],\n",
       "       [ 7.34632760e-02,  1.28481054e+00,  3.69995147e-01],\n",
       "       [-8.21011607e-03, -1.43588006e-01, -4.13499624e-02],\n",
       "       [ 3.76143716e-02,  6.57843173e-01,  1.89443320e-01],\n",
       "       [ 4.16634195e-02,  7.28658497e-01,  2.09836468e-01],\n",
       "       [ 7.78278112e-02,  1.36114407e+00,  3.91977400e-01],\n",
       "       [-1.34049818e-01, -2.34441853e+00, -6.75137162e-01],\n",
       "       [ 1.08979028e-02,  1.90595090e-01,  5.48868813e-02],\n",
       "       [-3.68055999e-02, -6.43698633e-01, -1.85370028e-01],\n",
       "       [-7.54560307e-02, -1.31966221e+00, -3.80031615e-01],\n",
       "       [-1.96913648e-02, -3.44385386e-01, -9.91748720e-02],\n",
       "       [ 2.62738834e-03,  4.59508672e-02,  1.32327676e-02],\n",
       "       [ 8.90251994e-02,  1.55697644e+00,  4.48372483e-01],\n",
       "       [ 3.39035317e-02,  5.92944026e-01,  1.70753941e-01],\n",
       "       [ 2.84580663e-02,  4.97707367e-01,  1.43328011e-01],\n",
       "       [-5.57373911e-02, -9.74800944e-01, -2.80719697e-01],\n",
       "       [-2.11340915e-02, -3.69617313e-01, -1.06441066e-01],\n",
       "       [-8.67379308e-02, -1.51697230e+00, -4.36852336e-01],\n",
       "       [ 8.33185315e-02,  1.45717168e+00,  4.19631094e-01],\n",
       "       [-1.05781965e-01, -1.85003638e+00, -5.32766819e-01],\n",
       "       [-3.87421139e-02, -6.77567363e-01, -1.95123404e-01],\n",
       "       [-4.74077798e-02, -8.29122543e-01, -2.38767773e-01],\n",
       "       [-1.11754052e-02, -1.95448399e-01, -5.62845320e-02],\n",
       "       [ 2.06164978e-02,  3.60565484e-01,  1.03834346e-01],\n",
       "       [-1.03170993e-02, -1.80437475e-01, -5.19617349e-02],\n",
       "       [ 5.09858839e-02,  8.91699433e-01,  2.56788433e-01],\n",
       "       [ 8.17884058e-02,  1.43041205e+00,  4.11925077e-01],\n",
       "       [-4.37070467e-02, -7.64399230e-01, -2.20128953e-01],\n",
       "       [-4.20863135e-03, -7.36054778e-02, -2.11966448e-02],\n",
       "       [-5.04360199e-02, -8.82083416e-01, -2.54019231e-01],\n",
       "       [ 5.38991950e-02,  9.42652225e-01,  2.71461606e-01],\n",
       "       [ 8.05429707e-04,  1.40863042e-02,  4.05652355e-03],\n",
       "       [ 4.88923974e-02,  8.55086923e-01,  2.46244922e-01],\n",
       "       [-9.14094374e-02, -1.59867585e+00, -4.60380971e-01],\n",
       "       [-1.04908515e-02, -1.83476180e-01, -5.28368130e-02],\n",
       "       [ 2.37087999e-02,  4.14647192e-01,  1.19408607e-01],\n",
       "       [ 5.32071963e-02,  9.30548787e-01,  2.67976135e-01],\n",
       "       [-5.11736684e-02, -8.94984066e-01, -2.57734299e-01],\n",
       "       [-1.63123142e-02, -2.85288572e-01, -8.21563900e-02],\n",
       "       [-5.62353879e-02, -9.83510435e-01, -2.83227801e-01],\n",
       "       [-4.63474505e-02, -8.10576916e-01, -2.33427018e-01],\n",
       "       [ 1.14124753e-01,  1.99594474e+00,  5.74784994e-01],\n",
       "       [-3.81713770e-02, -6.67584360e-01, -1.92248553e-01],\n",
       "       [ 5.71090030e-03,  9.98788252e-02,  2.87627466e-02]], dtype=float32)"
      ]
     },
     "execution_count": 20,
     "metadata": {},
     "output_type": "execute_result"
    }
   ],
   "source": [
    "model.predict(x)"
   ]
  },
  {
   "cell_type": "code",
   "execution_count": null,
   "id": "d5db8943-412f-4d05-bd23-0d1b754a9631",
   "metadata": {},
   "outputs": [],
   "source": [
    "tf.keras.metrics.R2Score"
   ]
  },
  {
   "cell_type": "code",
   "execution_count": 40,
   "id": "74c09cf6-21d6-45c4-b23a-3b0cc597c465",
   "metadata": {},
   "outputs": [],
   "source": [
    "model.compile(optimizer='adam', #impact the training process\n",
    "              loss='mse',  #impact the training process\n",
    "              metrics=[tf.keras.metrics.R2Score(), \"mse\"]) # dose not impact the training process"
   ]
  },
  {
   "cell_type": "code",
   "execution_count": 41,
   "id": "ed1c8925-c9fb-4412-b415-694bbce4653c",
   "metadata": {},
   "outputs": [
    {
     "name": "stdout",
     "output_type": "stream",
     "text": [
      "\u001b[1m4/4\u001b[0m \u001b[32m━━━━━━━━━━━━━━━━━━━━\u001b[0m\u001b[37m\u001b[0m \u001b[1m2s\u001b[0m 6ms/step - loss: 77.0006 - mse: 77.0006 - r2_score: -6.5715\n"
     ]
    }
   ],
   "source": [
    "history = model.fit(x=x, y=y, epochs=1)"
   ]
  },
  {
   "cell_type": "code",
   "execution_count": 42,
   "id": "1343f99c-f2d5-4575-b1f8-b2901e4c21c3",
   "metadata": {},
   "outputs": [
    {
     "data": {
      "text/plain": [
       "{'loss': [78.58028411865234],\n",
       " 'mse': [78.58028411865234],\n",
       " 'r2_score': [-6.556243896484375]}"
      ]
     },
     "execution_count": 42,
     "metadata": {},
     "output_type": "execute_result"
    }
   ],
   "source": [
    "history.history"
   ]
  },
  {
   "cell_type": "code",
   "execution_count": 39,
   "id": "362135c0-6448-464f-a065-3752dcedadf6",
   "metadata": {},
   "outputs": [
    {
     "name": "stdout",
     "output_type": "stream",
     "text": [
      "Epoch (0, 79.3360595703125) - Loss: 1\n"
     ]
    }
   ],
   "source": [
    "for i in enumerate(history.history[\"loss\"]):\n",
    "    print(f\"Epoch {i} - Loss: {1}\")"
   ]
  },
  {
   "cell_type": "code",
   "execution_count": null,
   "id": "d217839b-ce2c-47f0-b7a0-4834442caadd",
   "metadata": {},
   "outputs": [],
   "source": [
    "from matplotlib import pyplot as plt"
   ]
  },
  {
   "cell_type": "code",
   "execution_count": 43,
   "id": "1eef8f79-4c9f-45bc-8e4d-3f9e60e952e3",
   "metadata": {},
   "outputs": [
    {
     "ename": "SyntaxError",
     "evalue": "unexpected EOF while parsing (773310618.py, line 1)",
     "output_type": "error",
     "traceback": [
      "\u001b[0;36m  Cell \u001b[0;32mIn[43], line 1\u001b[0;36m\u001b[0m\n\u001b[0;31m    plt.plot(list(range(100)),history.history[\"loss\"]\u001b[0m\n\u001b[0m                                                     ^\u001b[0m\n\u001b[0;31mSyntaxError\u001b[0m\u001b[0;31m:\u001b[0m unexpected EOF while parsing\n"
     ]
    }
   ],
   "source": [
    "plt.plot(list(range(100)),history.history[\"loss\"]"
   ]
  }
 ],
 "metadata": {
  "kernelspec": {
   "display_name": "(03) Python 3.9 (TensorFlow)",
   "language": "python",
   "name": "py39_tensorflow"
  },
  "language_info": {
   "codemirror_mode": {
    "name": "ipython",
    "version": 3
   },
   "file_extension": ".py",
   "mimetype": "text/x-python",
   "name": "python",
   "nbconvert_exporter": "python",
   "pygments_lexer": "ipython3",
   "version": "3.9.23"
  }
 },
 "nbformat": 4,
 "nbformat_minor": 5
}
