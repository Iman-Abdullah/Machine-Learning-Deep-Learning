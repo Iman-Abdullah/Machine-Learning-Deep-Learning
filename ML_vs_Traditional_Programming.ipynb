{
  "cells": [
    {
      "cell_type": "code",
      "execution_count": 3,
      "id": "4104c87d",
      "metadata": {
        "colab": {
          "base_uri": "https://localhost:8080/"
        },
        "id": "4104c87d",
        "outputId": "347ce14b-665f-40a9-f562-53323b09324a"
      },
      "outputs": [
        {
          "output_type": "stream",
          "name": "stdout",
          "text": [
            "X_regression: [[ 5  0]\n",
            " [10  1]\n",
            " [15  2]\n",
            " [20  0]\n",
            " [25  1]]\n",
            "y_regression: [ 5.  15.  30.  20.  37.5]\n",
            "X_classification: [[1 1 0 0]\n",
            " [0 0 1 1]\n",
            " [1 0 0 0]]\n",
            "y_classification: ['Flu' 'Headache' 'Unknown']\n"
          ]
        }
      ],
      "source": [
        "import numpy as np\n",
        "\n",
        "# Data for regression: [distance, traffic_level (0=light, 1=moderate, 2=heavy)]\n",
        "X_regression = np.array([[5, 0], [10, 1], [15, 2], [20, 0], [25, 1]])\n",
        "y_regression = np.array([5, 15, 30, 20, 37.5])  # travel times\n",
        "\n",
        "# Data for classification: [fever, cough, headache, stomach pain] (1=present, 0=absent)\n",
        "X_classification = np.array([[1, 1, 0, 0], [0, 0, 1, 1], [1, 0, 0, 0]])\n",
        "y_classification = np.array(['Flu', 'Headache', 'Unknown'])  # diagnoses\n",
        "\n",
        "# Inspect data\n",
        "print('X_regression:', X_regression)\n",
        "print('y_regression:', y_regression)\n",
        "print('X_classification:', X_classification)\n",
        "print('y_classification:', y_classification)"
      ]
    },
    {
      "cell_type": "code",
      "execution_count": 4,
      "id": "ed0aa67f",
      "metadata": {
        "colab": {
          "base_uri": "https://localhost:8080/"
        },
        "id": "ed0aa67f",
        "outputId": "23faa1e0-3c47-428f-8d98-0351a71ecaad"
      },
      "outputs": [
        {
          "output_type": "stream",
          "name": "stdout",
          "text": [
            "Inputs -> distance: 10, traffic: moderate\n",
            "Estimated Travel Time: 15.0 minutes\n"
          ]
        }
      ],
      "source": [
        "def estimate_travel_time(distance, traffic):\n",
        "    if traffic == 'heavy':\n",
        "        return distance * 2\n",
        "    elif traffic == 'moderate':\n",
        "        return distance * 1.5\n",
        "    else:\n",
        "        return distance\n",
        "\n",
        "# Example usage\n",
        "distance = 10  # in km\n",
        "traffic = 'moderate'\n",
        "\n",
        "# Log input values\n",
        "print(f'Inputs -> distance: {distance}, traffic: {traffic}')\n",
        "\n",
        "# Call the function\n",
        "print(f\"Estimated Travel Time: {estimate_travel_time(distance, traffic)} minutes\")\n"
      ]
    },
    {
      "cell_type": "code",
      "execution_count": 5,
      "id": "e5d7c3a9",
      "metadata": {
        "colab": {
          "base_uri": "https://localhost:8080/"
        },
        "id": "e5d7c3a9",
        "outputId": "e6631f0b-cccf-4e42-a7cc-f5be296fefd5"
      },
      "outputs": [
        {
          "output_type": "stream",
          "name": "stdout",
          "text": [
            "Estimated Travel Time: 15.0 minutes\n"
          ]
        }
      ],
      "source": [
        "# Example usage\n",
        "distance = 10  # in km\n",
        "traffic = 'moderate'\n",
        "print(f\"Estimated Travel Time: {estimate_travel_time(distance, traffic)} minutes\")"
      ]
    },
    {
      "cell_type": "code",
      "execution_count": 6,
      "id": "8454ff0c",
      "metadata": {
        "colab": {
          "base_uri": "https://localhost:8080/"
        },
        "id": "8454ff0c",
        "outputId": "5d4521c8-6357-488c-d76f-4bc612dc91c6"
      },
      "outputs": [
        {
          "output_type": "stream",
          "name": "stdout",
          "text": [
            "Model Coefficients: [1.25555556 7.22222222]\n",
            "Intercept: -3.1111111111111214\n"
          ]
        }
      ],
      "source": [
        "from sklearn.linear_model import LinearRegression\n",
        "\n",
        "# Train ML model\n",
        "model = LinearRegression()\n",
        "model.fit(X_regression, y_regression)\n",
        "\n",
        "# Inspect learned parameters\n",
        "print('Model Coefficients:', model.coef_)\n",
        "print('Intercept:', model.intercept_)"
      ]
    },
    {
      "cell_type": "code",
      "execution_count": 7,
      "id": "83b8cfbd",
      "metadata": {
        "colab": {
          "base_uri": "https://localhost:8080/"
        },
        "id": "83b8cfbd",
        "outputId": "bf5fbd47-e410-4529-e70c-723d10908da2"
      },
      "outputs": [
        {
          "output_type": "stream",
          "name": "stdout",
          "text": [
            "Predicted Travel Time: 16.67 minutes\n",
            "Batch Predictions: [16.66666667 30.16666667  3.16666667]\n"
          ]
        }
      ],
      "source": [
        "# Predict travel time\n",
        "test_data = np.array([[10, 1]])  # Distance=10, Traffic=moderate\n",
        "predicted_time = model.predict(test_data)[0]\n",
        "print(f\"Predicted Travel Time: {predicted_time:.2f} minutes\")\n",
        "\n",
        "# Predict for more examples\n",
        "test_batch = np.array([[10, 1], [15, 2], [5, 0]])\n",
        "print('Batch Predictions:', model.predict(test_batch))"
      ]
    }
  ],
  "metadata": {
    "colab": {
      "provenance": []
    },
    "language_info": {
      "name": "python"
    },
    "kernelspec": {
      "name": "python3",
      "display_name": "Python 3"
    }
  },
  "nbformat": 4,
  "nbformat_minor": 5
}